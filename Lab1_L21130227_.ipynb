{
  "nbformat": 4,
  "nbformat_minor": 0,
  "metadata": {
    "colab": {
      "provenance": [],
      "authorship_tag": "ABX9TyNLvjt4/r4ZGlvwh13ysGMp",
      "include_colab_link": true
    },
    "kernelspec": {
      "name": "python3",
      "display_name": "Python 3"
    },
    "language_info": {
      "name": "python"
    }
  },
  "cells": [
    {
      "cell_type": "markdown",
      "metadata": {
        "id": "view-in-github",
        "colab_type": "text"
      },
      "source": [
        "<a href=\"https://colab.research.google.com/github/21130227-LeNhutTruong/machine-learning/blob/machine-learning/Lab1_L21130227_.ipynb\" target=\"_parent\"><img src=\"https://colab.research.google.com/assets/colab-badge.svg\" alt=\"Open In Colab\"/></a>"
      ]
    },
    {
      "cell_type": "code",
      "execution_count": null,
      "metadata": {
        "colab": {
          "base_uri": "https://localhost:8080/"
        },
        "id": "WFMWt-4yDu_M",
        "outputId": "22068351-c554-49d3-f4ed-5dcb87024c3f"
      },
      "outputs": [
        {
          "output_type": "stream",
          "name": "stdout",
          "text": [
            " nhập n: 5\n",
            "---5\n",
            "---7\n",
            "---9\n",
            "---2\n",
            "---4\n",
            "Số Lớn Nhất:  9\n"
          ]
        }
      ],
      "source": [
        "L = []\n",
        "num = int(input(\" nhập n: \"))\n",
        "for i in range(num):\n",
        "  number = int(input(\"---\".format(i+1)))\n",
        "  L.append(number)\n",
        "  max_value = max(L)\n",
        "print(\"Số Lớn Nhất: \", max_value)"
      ]
    },
    {
      "cell_type": "markdown",
      "source": [
        "Bài Tập Thực Hành Môn Máy Học"
      ],
      "metadata": {
        "id": "iuB35gDaERhp"
      }
    }
  ]
}