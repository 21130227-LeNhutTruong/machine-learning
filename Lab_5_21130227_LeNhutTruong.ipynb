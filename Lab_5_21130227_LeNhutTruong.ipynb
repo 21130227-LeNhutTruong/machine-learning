{
  "nbformat": 4,
  "nbformat_minor": 0,
  "metadata": {
    "colab": {
      "provenance": [],
      "include_colab_link": true
    },
    "kernelspec": {
      "name": "python3",
      "display_name": "Python 3"
    },
    "language_info": {
      "name": "python"
    }
  },
  "cells": [
    {
      "cell_type": "markdown",
      "metadata": {
        "id": "view-in-github",
        "colab_type": "text"
      },
      "source": [
        "<a href=\"https://colab.research.google.com/github/21130227-LeNhutTruong/machine-learning/blob/main/Lab_5_21130227_LeNhutTruong.ipynb\" target=\"_parent\"><img src=\"https://colab.research.google.com/assets/colab-badge.svg\" alt=\"Open In Colab\"/></a>"
      ]
    },
    {
      "cell_type": "markdown",
      "source": [
        "# This lab is to deal with **SVM** to classification tasks and compare its performance with other competitive algorithms. In general, **SVM** is one of the most popular and widely used supervised machine learning algorithms.\n",
        "\n",
        "*   **Deadline: 23:59, 08/04/2024**\n",
        "\n"
      ],
      "metadata": {
        "id": "LMzehe0sy5wr"
      }
    },
    {
      "cell_type": "code",
      "source": [
        "from google.colab import drive\n",
        "drive.mount('/content/gdrive')\n",
        "%cd '/content/gdrive/MyDrive/Colab Notebooks/'"
      ],
      "metadata": {
        "id": "L5JsNZAUsdI4",
        "colab": {
          "base_uri": "https://localhost:8080/"
        },
        "outputId": "8feae66c-2b73-4483-9132-e265da7d1960"
      },
      "execution_count": 1,
      "outputs": [
        {
          "output_type": "stream",
          "name": "stdout",
          "text": [
            "Mounted at /content/gdrive\n",
            "/content/gdrive/MyDrive/Colab Notebooks\n"
          ]
        }
      ]
    },
    {
      "cell_type": "markdown",
      "source": [
        "# Import libraries"
      ],
      "metadata": {
        "id": "H4nJmxp9zGX4"
      }
    },
    {
      "cell_type": "code",
      "execution_count": 2,
      "metadata": {
        "id": "DoVWQ8AEyc-C",
        "colab": {
          "base_uri": "https://localhost:8080/"
        },
        "outputId": "6f5e6986-d4b9-4e75-87a4-18c071d32c8d"
      },
      "outputs": [
        {
          "output_type": "stream",
          "name": "stdout",
          "text": [
            "Populating the interactive namespace from numpy and matplotlib\n"
          ]
        },
        {
          "output_type": "stream",
          "name": "stderr",
          "text": [
            "/usr/local/lib/python3.10/dist-packages/IPython/core/magics/pylab.py:159: UserWarning: pylab import has clobbered these variables: ['plt']\n",
            "`%matplotlib` prevents importing * from pylab and numpy\n",
            "  warn(\"pylab import has clobbered these variables: %s\"  % clobbered +\n"
          ]
        }
      ],
      "source": [
        "# code\n",
        "import numpy as np\n",
        "import pandas as pd\n",
        "import matplotlib.pyplot as plt\n",
        "import seaborn as sns\n",
        "import seaborn as sns\n",
        "import matplotlib.ticker as ticker\n",
        "from sklearn import metrics\n",
        "from sklearn.model_selection import train_test_split\n",
        "import matplotlib.pylab as plt\n",
        "from sklearn import svm\n",
        "from sklearn.neighbors import KNeighborsClassifier\n",
        "from sklearn.linear_model import LinearRegression,LogisticRegression\n",
        "from sklearn.tree import DecisionTreeClassifier\n",
        "from sklearn.metrics import classification_report, confusion_matrix\n",
        "from prettytable import PrettyTable\n",
        "from sklearn.metrics import accuracy_score\n",
        "from sklearn.metrics import precision_score\n",
        "from sklearn.metrics import recall_score\n",
        "from sklearn.metrics import f1_score\n",
        "\n",
        "%pylab inline\n",
        "#%run Utils.ipynb\n",
        "# Warnings configuration\n",
        "# ==============================================================================\n",
        "import warnings\n",
        "# warnings.filterwarnings('ignore')\n"
      ]
    },
    {
      "cell_type": "markdown",
      "source": [
        "#Task 1.\n",
        "For **breast cancer** dataset (https://tinyurl.com/3vme8hr3) which could be loaded from datasets in sklearn as follows:\n",
        "\n",
        "```\n",
        "#Import scikit-learn dataset library\n",
        "from sklearn import datasets\n",
        "\n",
        "#Load dataset\n",
        "cancer = datasets.load_breast_cancer()\n",
        "```\n",
        "\n",
        "*   1.1.\tApply **SVM algorithm** to above dataset using linear kernel.\n",
        "*   1.2.\tCompare the obtained results with other competitive algorithms (**Logistic Regression, Decision Tree, kNN**) based on metrics: accuracy, precision, recall, f1 measures.\n",
        "\n"
      ],
      "metadata": {
        "id": "kNv07ARGzOUm"
      }
    },
    {
      "cell_type": "code",
      "source": [
        "from sklearn import datasets\n",
        "cancer = datasets.load_breast_cancer()\n",
        "X, y = cancer.data, cancer.target\n",
        "X_train, X_test, y_train, y_test = train_test_split(X, y, test_size=0.2)\n",
        "clf = svm.SVC(kernel='linear')\n",
        "clf.fit(X_train, y_train)\n",
        "# hồi quy\n",
        "lr_model = LogisticRegression()\n",
        "lr_model.fit(X_train, y_train)\n",
        "# cây quyết định\n",
        "dt_model = DecisionTreeClassifier()\n",
        "dt_model.fit(X_train, y_train)\n",
        "# knn\n",
        "knn_model = KNeighborsClassifier(n_neighbors=3)\n",
        "knn_model.fit(X_train, y_train)\n",
        "# test data\n",
        "svm_pred = clf.predict(X_test)\n",
        "lr_pred = lr_model.predict(X_test)\n",
        "dt_pred = dt_model.predict(X_test)\n",
        "knn_pred = knn_model.predict(X_test)\n",
        "# So sánh SVM với hồi quy, cây quyết định,\n",
        "print(\"svm_accuracy: \" ,accuracy_score(y_test, svm_pred),\"lr_accuracy: \",accuracy_score(y_test, lr_pred), \"dt_accuracy: \", accuracy_score(y_test, dt_pred),\"knn_accuracy: \" ,accuracy_score(y_test, knn_pred))\n",
        "print(\"svm_precision: \"  ,precision_score(y_test, svm_pred),\"lr_precision: \",precision_score(y_test, lr_pred), \"dt_precision: \", precision_score(y_test, dt_pred),\"knn_precision: \" ,precision_score(y_test, knn_pred))\n",
        "print(\"svm_recall: \", recall_score(y_test, svm_pred),\"lr_recall: \",recall_score(y_test, lr_pred), \"dt_recall: \", recall_score(y_test, dt_pred),\"knn_recall: \" ,recall_score(y_test, knn_pred))\n",
        "print(\"svm_f1: \",f1_score(y_test, svm_pred),\"lr_f1: \",f1_score(y_test, lr_pred), \"dt_f1: \", f1_score(y_test, dt_pred),\"knn_f1: \" ,f1_score(y_test, knn_pred))"
      ],
      "metadata": {
        "id": "sOsg77IBzEyo",
        "colab": {
          "base_uri": "https://localhost:8080/"
        },
        "outputId": "4e9f2d37-7721-4987-add6-1bee96ccef9a"
      },
      "execution_count": 3,
      "outputs": [
        {
          "output_type": "stream",
          "name": "stderr",
          "text": [
            "/usr/local/lib/python3.10/dist-packages/sklearn/linear_model/_logistic.py:458: ConvergenceWarning: lbfgs failed to converge (status=1):\n",
            "STOP: TOTAL NO. of ITERATIONS REACHED LIMIT.\n",
            "\n",
            "Increase the number of iterations (max_iter) or scale the data as shown in:\n",
            "    https://scikit-learn.org/stable/modules/preprocessing.html\n",
            "Please also refer to the documentation for alternative solver options:\n",
            "    https://scikit-learn.org/stable/modules/linear_model.html#logistic-regression\n",
            "  n_iter_i = _check_optimize_result(\n"
          ]
        },
        {
          "output_type": "stream",
          "name": "stdout",
          "text": [
            "svm_accuracy:  0.9473684210526315 lr_accuracy:  0.956140350877193 dt_accuracy:  0.9210526315789473 knn_accuracy:  0.9473684210526315\n",
            "svm_precision:  0.9506172839506173 lr_precision:  0.9625 dt_precision:  0.9605263157894737 knn_precision:  0.9506172839506173\n",
            "svm_recall:  0.9746835443037974 lr_recall:  0.9746835443037974 dt_recall:  0.9240506329113924 knn_recall:  0.9746835443037974\n",
            "svm_f1:  0.9625 lr_f1:  0.9685534591194969 dt_f1:  0.9419354838709677 knn_f1:  0.9625\n"
          ]
        }
      ]
    },
    {
      "cell_type": "markdown",
      "source": [
        "#Task 2.\n",
        "\n",
        "*   2.1.\tPerform SVM algorithm to **Iris dataset** using **linear kernel**.\n",
        "*   2.2.\tCompare the obtained results in task 2.1 with **SVM** using other kernels (**Polynomial Kernel, Sigmoid Kernel, Radial Basis Function Kernel**). Some metrics could be used: **accuracy, precision, recall, f1** measures\n"
      ],
      "metadata": {
        "id": "S43IoUT-0OQq"
      }
    },
    {
      "cell_type": "code",
      "source": [
        "# code\n",
        "from sklearn import datasets\n",
        "from sklearn.preprocessing import StandardScaler\n",
        "cancer = datasets.load_iris()\n",
        "X, y = cancer.data, cancer.target\n",
        "X_train, X_test, y_train, y_test = train_test_split(X, y, test_size=0.2)\n",
        "scaler = StandardScaler()\n",
        "X_train_scaled = scaler.fit_transform(X_train)\n",
        "X_test_scaled = scaler.transform(X_test)\n",
        "\n",
        "svm_model = svm.SVC(kernel=\"linear\")\n",
        "svm_model.fit(X_train_scaled, y_train)\n",
        "\n",
        "poly_model = svm.SVC(kernel=\"poly\", degree=3)\n",
        "poly_model.fit(X_train_scaled, y_train)\n",
        "\n",
        "sigmoid_model = svm.SVC(kernel=\"sigmoid\")\n",
        "sigmoid_model.fit(X_train_scaled, y_train)\n",
        "\n",
        "rbf_model = svm.SVC(kernel=\"rbf\")\n",
        "rbf_model.fit(X_train_scaled, y_train)\n",
        "\n",
        "SVM_pred = svm_model.predict(X_test_scaled)\n",
        "poly_pred = poly_model.predict(X_test_scaled)\n",
        "sigmoid_pred = sigmoid_model.predict(X_test_scaled)\n",
        "rbf_pred = rbf_model.predict(X_test_scaled)\n",
        "\n",
        "print(\"Accuracy of SVM using other kernels: \", accuracy_score(y_test, SVM_pred),\"Accuracy of Polynomial Kernel: \", accuracy_score(y_test, poly_pred),\"Accuracy of Sigmoid Kernel: \", accuracy_score(y_test, sigmoid_pred),\"Accuracy of Radial Basis Function Kernel: \", accuracy_score(y_test, rbf_pred) )\n",
        "print(\"precision of SVM using other kernels: \", precision_score(y_test, SVM_pred),\"precision of Polynomial Kernel: \", precision_score(y_test, poly_pred),\"precision of Sigmoid Kernel: \", precision_score(y_test, sigmoid_pred),\"precision of Radial Basis Function Kernel: \", precision_score(y_test, rbf_pred) )\n",
        "print(\" recall of SVM using other kernels: \",  recall_score(y_test, SVM_pred),\" recall of Polynomial Kernel: \",  recall_score(y_test, poly_pred),\" recall of Sigmoid Kernel: \",  recall_score(y_test, sigmoid_pred),\" recall of Radial Basis Function Kernel: \",  recall_score(y_test, rbf_pred) )\n",
        "print(\"f1 of SVM using other kernels: \", f1_score(y_test, SVM_pred),\"f1 of Polynomial Kernel: \", f1_score(y_test, poly_pred),\"f1 of Sigmoid Kernel: \", f1_score(y_test, sigmoid_pred),\"f1 of Radial Basis Function Kernel: \", f1_score(y_test, rbf_pred) )\n"
      ],
      "metadata": {
        "id": "_xhPpF5b033h"
      },
      "execution_count": null,
      "outputs": []
    },
    {
      "cell_type": "markdown",
      "source": [
        "#Task 3.\n",
        "Compare the performance of selected classification algorithms (**Decision Tree, kNN, Logistic Regression**) and **SVM** (using different kernels) with **FASHION** dataset based on **accuracy, precision, recall, f1** measures.\n"
      ],
      "metadata": {
        "id": "b52OPWPD2afi"
      }
    },
    {
      "cell_type": "code",
      "source": [
        "# Đọc dữ liệu từ file csv\n",
        "train_df = pd.read_csv('dataLab5/fashion_train (1).csv')\n",
        "test_df = pd.read_csv('dataLab5/fashion_test (1).csv')\n",
        "\n",
        "# Lấy dữ liệu features và labels\n",
        "X_train = train_df.drop('y', axis=1)\n",
        "y_train = train_df['y']\n",
        "X_test = test_df.drop('y', axis=1)\n",
        "y_test = test_df['y']\n",
        "\n",
        "\n",
        "X_train, X_test, y_train, y_test = train_test_split(X, y, test_size=0.2)\n",
        "clf = svm.SVC(kernel='linear')\n",
        "clf.fit(X_train, y_train)\n",
        "# hồi quy\n",
        "lr_model = LogisticRegression()\n",
        "lr_model.fit(X_train, y_train)\n",
        "# cây quyết định\n",
        "dt_model = DecisionTreeClassifier()\n",
        "dt_model.fit(X_train, y_train)\n",
        "# knn\n",
        "knn_model = KNeighborsClassifier(n_neighbors=3)\n",
        "knn_model.fit(X_train, y_train)\n",
        "# test data\n",
        "svm_pred = clf.predict(X_test)\n",
        "lr_pred = lr_model.predict(X_test)\n",
        "dt_pred = dt_model.predict(X_test)\n",
        "knn_pred = knn_model.predict(X_test)\n",
        "# So sánh SVM với hồi quy, cây quyết định,\n",
        "print(\"svm_accuracy: \" ,accuracy_score(y_test, svm_pred),\"lr_accuracy: \",accuracy_score(y_test, lr_pred), \"dt_accuracy: \", accuracy_score(y_test, dt_pred),\"knn_accuracy: \" ,accuracy_score(y_test, knn_pred))\n",
        "print(\"svm_precision: \"  ,precision_score(y_test, svm_pred),\"lr_precision: \",precision_score(y_test, lr_pred), \"dt_precision: \", precision_score(y_test, dt_pred),\"knn_precision: \" ,precision_score(y_test, knn_pred))\n",
        "print(\"svm_recall: \", recall_score(y_test, svm_pred),\"lr_recall: \",recall_score(y_test, lr_pred), \"dt_recall: \", recall_score(y_test, dt_pred),\"knn_recall: \" ,recall_score(y_test, knn_pred))\n",
        "print(\"svm_f1: \",f1_score(y_test, svm_pred),\"lr_f1: \",f1_score(y_test, lr_pred), \"dt_f1: \", f1_score(y_test, dt_pred),\"knn_f1: \" ,f1_score(y_test, knn_pred))"
      ],
      "metadata": {
        "colab": {
          "base_uri": "https://localhost:8080/"
        },
        "id": "WOT5_seaKFyS",
        "outputId": "90fcbddc-f29c-443b-b12a-5fbd1f72180c"
      },
      "execution_count": 13,
      "outputs": [
        {
          "output_type": "stream",
          "name": "stdout",
          "text": [
            "svm_accuracy:  0.9298245614035088 lr_accuracy:  0.9385964912280702 dt_accuracy:  0.8508771929824561 knn_accuracy:  0.8859649122807017\n",
            "svm_precision:  0.9041095890410958 lr_precision:  0.9166666666666666 dt_precision:  0.8787878787878788 knn_precision:  0.875\n",
            "svm_recall:  0.9850746268656716 lr_recall:  0.9850746268656716 dt_recall:  0.8656716417910447 knn_recall:  0.9402985074626866\n",
            "svm_f1:  0.9428571428571428 lr_f1:  0.949640287769784 dt_f1:  0.8721804511278195 knn_f1:  0.9064748201438849\n"
          ]
        },
        {
          "output_type": "stream",
          "name": "stderr",
          "text": [
            "/usr/local/lib/python3.10/dist-packages/sklearn/linear_model/_logistic.py:458: ConvergenceWarning: lbfgs failed to converge (status=1):\n",
            "STOP: TOTAL NO. of ITERATIONS REACHED LIMIT.\n",
            "\n",
            "Increase the number of iterations (max_iter) or scale the data as shown in:\n",
            "    https://scikit-learn.org/stable/modules/preprocessing.html\n",
            "Please also refer to the documentation for alternative solver options:\n",
            "    https://scikit-learn.org/stable/modules/linear_model.html#logistic-regression\n",
            "  n_iter_i = _check_optimize_result(\n"
          ]
        }
      ]
    },
    {
      "cell_type": "markdown",
      "source": [
        "#Task 4.\n",
        "For a given mobile price classification dataset with the following information:\n",
        "\n",
        "*   **Attributes**: 'battery_power', 'blue', 'clock_speed', 'dual_sim', 'fc', 'four_g', 'int_memory', 'm_dep', 'mobile_wt', 'n_cores', 'pc', 'px_height',\n",
        "       'px_width', 'ram', 'sc_h', 'sc_w', 'talk_time', 'three_g',     'touch_screen', 'wifi'\n",
        "*   **class label**: ***price_range*** (0,1,2,3)\n",
        "\n"
      ],
      "metadata": {
        "id": "Z5pp7_h-aP2u"
      }
    },
    {
      "cell_type": "markdown",
      "source": [
        "#Task 4.1.\n",
        "Compare the performance of selected classification algorithms (**Decision Tree, kNN, Logistic Regression**) and **SVM** (using different kernels) with **mobile price classification** based on **accuracy, precision, recall, f1** measures."
      ],
      "metadata": {
        "id": "I348UU6nHjGl"
      }
    },
    {
      "cell_type": "code",
      "source": [
        "# code\n",
        "train_df = pd.read_csv('dataLab5/mobile_train.csv')\n",
        "\n",
        "X_train = train_df.drop('price_range', axis=1)\n",
        "y_train = train_df['price_range']\n",
        "\n",
        "X_train, X_test, y_train, y_test = train_test_split(X, y, test_size=0.2)\n",
        "clf = svm.SVC(kernel='linear')\n",
        "clf.fit(X_train, y_train)\n",
        "# hồi quy\n",
        "lr_model = LogisticRegression()\n",
        "lr_model.fit(X_train, y_train)\n",
        "# cây quyết định\n",
        "dt_model = DecisionTreeClassifier()\n",
        "dt_model.fit(X_train, y_train)\n",
        "# knn\n",
        "knn_model = KNeighborsClassifier(n_neighbors=3)\n",
        "knn_model.fit(X_train, y_train)\n",
        "# test data\n",
        "svm_pred = clf.predict(X_test)\n",
        "lr_pred = lr_model.predict(X_test)\n",
        "dt_pred = dt_model.predict(X_test)\n",
        "knn_pred = knn_model.predict(X_test)\n",
        "# So sánh SVM với hồi quy, cây quyết định,\n",
        "print(\"svm_accuracy: \" ,accuracy_score(y_test, svm_pred),\"lr_accuracy: \",accuracy_score(y_test, lr_pred), \"dt_accuracy: \", accuracy_score(y_test, dt_pred),\"knn_accuracy: \" ,accuracy_score(y_test, knn_pred))\n",
        "print(\"svm_precision: \"  ,precision_score(y_test, svm_pred),\"lr_precision: \",precision_score(y_test, lr_pred), \"dt_precision: \", precision_score(y_test, dt_pred),\"knn_precision: \" ,precision_score(y_test, knn_pred))\n",
        "print(\"svm_recall: \", recall_score(y_test, svm_pred),\"lr_recall: \",recall_score(y_test, lr_pred), \"dt_recall: \", recall_score(y_test, dt_pred),\"knn_recall: \" ,recall_score(y_test, knn_pred))\n",
        "print(\"svm_f1: \",f1_score(y_test, svm_pred),\"lr_f1: \",f1_score(y_test, lr_pred), \"dt_f1: \", f1_score(y_test, dt_pred),\"knn_f1: \" ,f1_score(y_test, knn_pred))"
      ],
      "metadata": {
        "id": "Rw_-8FIf2KxW",
        "colab": {
          "base_uri": "https://localhost:8080/"
        },
        "outputId": "45d0bdde-b443-447b-b10b-da75e618ba2c"
      },
      "execution_count": 21,
      "outputs": [
        {
          "output_type": "stream",
          "name": "stdout",
          "text": [
            "svm_accuracy:  0.9649122807017544 lr_accuracy:  0.9473684210526315 dt_accuracy:  0.9385964912280702 knn_accuracy:  0.9385964912280702\n",
            "svm_precision:  0.9512195121951219 lr_precision:  0.95 dt_precision:  0.961038961038961 knn_precision:  0.9382716049382716\n",
            "svm_recall:  1.0 lr_recall:  0.9743589743589743 dt_recall:  0.9487179487179487 knn_recall:  0.9743589743589743\n",
            "svm_f1:  0.975 lr_f1:  0.9620253164556962 dt_f1:  0.9548387096774195 knn_f1:  0.9559748427672956\n"
          ]
        },
        {
          "output_type": "stream",
          "name": "stderr",
          "text": [
            "/usr/local/lib/python3.10/dist-packages/sklearn/linear_model/_logistic.py:458: ConvergenceWarning: lbfgs failed to converge (status=1):\n",
            "STOP: TOTAL NO. of ITERATIONS REACHED LIMIT.\n",
            "\n",
            "Increase the number of iterations (max_iter) or scale the data as shown in:\n",
            "    https://scikit-learn.org/stable/modules/preprocessing.html\n",
            "Please also refer to the documentation for alternative solver options:\n",
            "    https://scikit-learn.org/stable/modules/linear_model.html#logistic-regression\n",
            "  n_iter_i = _check_optimize_result(\n"
          ]
        }
      ]
    },
    {
      "cell_type": "markdown",
      "source": [
        "#Task 4.2.\n",
        "Predict class label for test set using the best model found in task 4.1"
      ],
      "metadata": {
        "id": "TY35jiORHPJh"
      }
    },
    {
      "cell_type": "code",
      "source": [
        "#code"
      ],
      "metadata": {
        "id": "z_irQuKyHtdP"
      },
      "execution_count": null,
      "outputs": []
    },
    {
      "cell_type": "markdown",
      "source": [
        "#Task 5.\n",
        "\n",
        "*   5.1.\tPerform SVM algorithm to **spambase dataset** using **linear kernel**.\n",
        "*   5.2.\tCompare the obtained results in task 5.1 with **SVM** using other kernels (**Polynomial Kernel, Sigmoid Kernel, Radial Basis Function Kernel**). Some metrics could be used: **accuracy, precision, recall, f1** measures"
      ],
      "metadata": {
        "id": "7SCMLfMfyWPU"
      }
    },
    {
      "cell_type": "code",
      "source": [
        "#code\n",
        "from sklearn.preprocessing import StandardScaler\n",
        "cancer = pd.read_csv(dataLab5/spambase\\ \\(1\\).csv)\n",
        "\n",
        "X_train, X_test, y_train, y_test = train_test_split(X, y, test_size=0.2)\n",
        "scaler = StandardScaler()\n",
        "X_train_scaled = scaler.fit_transform(X_train)\n",
        "X_test_scaled = scaler.transform(X_test)\n",
        "\n",
        "svm_model = svm.SVC(kernel=\"linear\")\n",
        "svm_model.fit(X_train_scaled, y_train)\n",
        "\n",
        "poly_model = svm.SVC(kernel=\"poly\", degree=3)\n",
        "poly_model.fit(X_train_scaled, y_train)\n",
        "\n",
        "sigmoid_model = svm.SVC(kernel=\"sigmoid\")\n",
        "sigmoid_model.fit(X_train_scaled, y_train)\n",
        "\n",
        "rbf_model = svm.SVC(kernel=\"rbf\")\n",
        "rbf_model.fit(X_train_scaled, y_train)\n",
        "\n",
        "SVM_pred = svm_model.predict(X_test_scaled)\n",
        "poly_pred = poly_model.predict(X_test_scaled)\n",
        "sigmoid_pred = sigmoid_model.predict(X_test_scaled)\n",
        "rbf_pred = rbf_model.predict(X_test_scaled)\n",
        "\n",
        "print(\"Accuracy of SVM using other kernels: \", accuracy_score(y_test, SVM_pred),\"Accuracy of Polynomial Kernel: \", accuracy_score(y_test, poly_pred),\"Accuracy of Sigmoid Kernel: \", accuracy_score(y_test, sigmoid_pred),\"Accuracy of Radial Basis Function Kernel: \", accuracy_score(y_test, rbf_pred) )\n",
        "print(\"precision of SVM using other kernels: \", precision_score(y_test, SVM_pred),\"precision of Polynomial Kernel: \", precision_score(y_test, poly_pred),\"precision of Sigmoid Kernel: \", precision_score(y_test, sigmoid_pred),\"precision of Radial Basis Function Kernel: \", precision_score(y_test, rbf_pred) )\n",
        "print(\" recall of SVM using other kernels: \",  recall_score(y_test, SVM_pred),\" recall of Polynomial Kernel: \",  recall_score(y_test, poly_pred),\" recall of Sigmoid Kernel: \",  recall_score(y_test, sigmoid_pred),\" recall of Radial Basis Function Kernel: \",  recall_score(y_test, rbf_pred) )\n",
        "print(\"f1 of SVM using other kernels: \", f1_score(y_test, SVM_pred),\"f1 of Polynomial Kernel: \", f1_score(y_test, poly_pred),\"f1 of Sigmoid Kernel: \", f1_score(y_test, sigmoid_pred),\"f1 of Radial Basis Function Kernel: \", f1_score(y_test, rbf_pred) )\n"
      ],
      "metadata": {
        "id": "CU4u3CvDyfxg",
        "colab": {
          "base_uri": "https://localhost:8080/",
          "height": 106
        },
        "outputId": "d618a727-4202-4f16-b122-3ad245895141"
      },
      "execution_count": 24,
      "outputs": [
        {
          "output_type": "error",
          "ename": "SyntaxError",
          "evalue": "unexpected character after line continuation character (<ipython-input-24-07bac88c38fa>, line 3)",
          "traceback": [
            "\u001b[0;36m  File \u001b[0;32m\"<ipython-input-24-07bac88c38fa>\"\u001b[0;36m, line \u001b[0;32m3\u001b[0m\n\u001b[0;31m    cancer = pd.read_csv(dataLab5/spambase\\ \\(1\\).csv)\u001b[0m\n\u001b[0m                                           ^\u001b[0m\n\u001b[0;31mSyntaxError\u001b[0m\u001b[0;31m:\u001b[0m unexpected character after line continuation character\n"
          ]
        }
      ]
    },
    {
      "cell_type": "markdown",
      "source": [
        "#Finally,\n",
        "Save a copy in your Github. Remember renaming the notebook."
      ],
      "metadata": {
        "id": "Ok7RGkea_b7n"
      }
    }
  ]
}