{
  "nbformat": 4,
  "nbformat_minor": 0,
  "metadata": {
    "colab": {
      "provenance": [],
      "authorship_tag": "ABX9TyOAOyoyusX8vxBA0oi1+IJw",
      "include_colab_link": true
    },
    "kernelspec": {
      "name": "python3",
      "display_name": "Python 3"
    },
    "language_info": {
      "name": "python"
    }
  },
  "cells": [
    {
      "cell_type": "markdown",
      "metadata": {
        "id": "view-in-github",
        "colab_type": "text"
      },
      "source": [
        "<a href=\"https://colab.research.google.com/github/21130227-LeNhutTruong/machine-learning/blob/main/Lab1_21130227_LeNhutTruong.ipynb\" target=\"_parent\"><img src=\"https://colab.research.google.com/assets/colab-badge.svg\" alt=\"Open In Colab\"/></a>"
      ]
    },
    {
      "cell_type": "code",
      "execution_count": 1,
      "metadata": {
        "colab": {
          "base_uri": "https://localhost:8080/"
        },
        "id": "WFMWt-4yDu_M",
        "outputId": "01b2c599-e35c-4106-8df1-daf7d3f2212d"
      },
      "outputs": [
        {
          "output_type": "stream",
          "name": "stdout",
          "text": [
            " nhập n: 3\n",
            "---1\n",
            "---4\n",
            "---5\n",
            "Số nhỏ Nhất:  1\n"
          ]
        }
      ],
      "source": [
        "L = []\n",
        "num = int(input(\" nhập n: \"))\n",
        "for i in range(num):\n",
        "  number = int(input(\"---\".format(i+1)))\n",
        "  L.append(number)\n",
        "  min_value = min(L)\n",
        "print(\"Số nhỏ Nhất: \", min_value)"
      ]
    },
    {
      "cell_type": "markdown",
      "source": [
        "Bài Tập Thực Hành Môn Máy Học"
      ],
      "metadata": {
        "id": "iuB35gDaERhp"
      }
    }
  ]
}